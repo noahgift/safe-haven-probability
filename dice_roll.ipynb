{
  "nbformat": 4,
  "nbformat_minor": 0,
  "metadata": {
    "colab": {
      "name": "dice-roll.ipynb",
      "provenance": [],
      "authorship_tag": "ABX9TyN/Vti2GMHkxHB2V08lzOdZ",
      "include_colab_link": true
    },
    "kernelspec": {
      "name": "python3",
      "display_name": "Python 3"
    },
    "language_info": {
      "name": "python"
    }
  },
  "cells": [
    {
      "cell_type": "markdown",
      "metadata": {
        "id": "view-in-github",
        "colab_type": "text"
      },
      "source": [
        "<a href=\"https://colab.research.google.com/github/noahgift/safe-haven-probability/blob/main/dice_roll.ipynb\" target=\"_parent\"><img src=\"https://colab.research.google.com/assets/colab-badge.svg\" alt=\"Open In Colab\"/></a>"
      ]
    },
    {
      "cell_type": "markdown",
      "source": [
        "## Dice Roll"
      ],
      "metadata": {
        "id": "sp2hsLgU7Gy1"
      }
    },
    {
      "cell_type": "code",
      "execution_count": 9,
      "metadata": {
        "id": "IIYo5b_p5sjm"
      },
      "outputs": [],
      "source": [
        "from random import choices"
      ]
    },
    {
      "cell_type": "code",
      "source": [
        "outcomes = [-.50, .05,.05,.05, .50]"
      ],
      "metadata": {
        "id": "i3vQ1cIf7iE-"
      },
      "execution_count": 46,
      "outputs": []
    },
    {
      "cell_type": "code",
      "source": [
        "def simulate(number=10, capital=50000):\n",
        "    iterations = []\n",
        "    for i in range(number):\n",
        "        investment_factor = choices(outcomes)[0]\n",
        "        subtotal = investment_factor*capital\n",
        "        print(f\"Simulation {i} | Starting Capital: {capital} | Outcome: %{investment_factor} gain/loss\")\n",
        "        iterations.append(subtotal)\n",
        "        capital = subtotal\n",
        "    return capital\n",
        "\n",
        "simulate()"
      ],
      "metadata": {
        "colab": {
          "base_uri": "https://localhost:8080/"
        },
        "id": "pThGHxlz71Ay",
        "outputId": "d12b3192-b2e2-4a59-c8cc-b017ab442301"
      },
      "execution_count": 52,
      "outputs": [
        {
          "output_type": "stream",
          "name": "stdout",
          "text": [
            "Simulation 0 | Starting Capital: 50000 | Outcome: %0.05 gain/loss\n",
            "Simulation 1 | Starting Capital: 2500.0 | Outcome: %-0.5 gain/loss\n",
            "Simulation 2 | Starting Capital: -1250.0 | Outcome: %0.05 gain/loss\n",
            "Simulation 3 | Starting Capital: -62.5 | Outcome: %0.05 gain/loss\n",
            "Simulation 4 | Starting Capital: -3.125 | Outcome: %0.05 gain/loss\n",
            "Simulation 5 | Starting Capital: -0.15625 | Outcome: %0.05 gain/loss\n",
            "Simulation 6 | Starting Capital: -0.0078125 | Outcome: %0.05 gain/loss\n",
            "Simulation 7 | Starting Capital: -0.000390625 | Outcome: %-0.5 gain/loss\n",
            "Simulation 8 | Starting Capital: 0.0001953125 | Outcome: %0.5 gain/loss\n",
            "Simulation 9 | Starting Capital: 9.765625e-05 | Outcome: %0.05 gain/loss\n"
          ]
        },
        {
          "output_type": "execute_result",
          "data": {
            "text/plain": [
              "4.882812500000001e-06"
            ]
          },
          "metadata": {},
          "execution_count": 52
        }
      ]
    },
    {
      "cell_type": "code",
      "source": [
        ""
      ],
      "metadata": {
        "colab": {
          "base_uri": "https://localhost:8080/"
        },
        "id": "p4ujhFts8yGv",
        "outputId": "57a4e85a-aab9-4b01-981b-7af294bfe6d4"
      },
      "execution_count": 33,
      "outputs": [
        {
          "output_type": "stream",
          "name": "stdout",
          "text": [
            "Simulation 0 | Starting Capital: 50000 | Outcome: %0.5 gain/loss\n",
            "Simulation 1 | Starting Capital: 25000.0 | Outcome: %-0.5 gain/loss\n",
            "Simulation 2 | Starting Capital: -12500.0 | Outcome: %0.5 gain/loss\n",
            "Simulation 3 | Starting Capital: -6250.0 | Outcome: %0.5 gain/loss\n",
            "Simulation 4 | Starting Capital: -3125.0 | Outcome: %-0.5 gain/loss\n",
            "Simulation 5 | Starting Capital: 1562.5 | Outcome: %-0.5 gain/loss\n",
            "Simulation 6 | Starting Capital: -781.25 | Outcome: %0.5 gain/loss\n",
            "Simulation 7 | Starting Capital: -390.625 | Outcome: %0.5 gain/loss\n",
            "Simulation 8 | Starting Capital: -195.3125 | Outcome: %0.5 gain/loss\n",
            "Simulation 9 | Starting Capital: -97.65625 | Outcome: %-0.5 gain/loss\n"
          ]
        },
        {
          "output_type": "execute_result",
          "data": {
            "text/plain": [
              "48.828125"
            ]
          },
          "metadata": {},
          "execution_count": 33
        }
      ]
    },
    {
      "cell_type": "code",
      "source": [
        ""
      ],
      "metadata": {
        "id": "xJqaeUk28zxN"
      },
      "execution_count": null,
      "outputs": []
    }
  ]
}